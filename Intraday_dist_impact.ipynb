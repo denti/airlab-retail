{
 "cells": [
  {
   "cell_type": "code",
   "execution_count": 1,
   "metadata": {},
   "outputs": [],
   "source": [
    "import torch.nn as nn\n",
    "import torch\n",
    "from retail import retail\n",
    "import torch.distributions as d\n",
    "import torch.nn.functional as F\n",
    "import numpy as np\n",
    "import seaborn as sns"
   ]
  },
  {
   "cell_type": "markdown",
   "metadata": {},
   "source": [
    "We define the arguments used by our store. We also define the intra-day distribution as being sampled by a uniform distribution."
   ]
  },
  {
   "cell_type": "code",
   "execution_count": 2,
   "metadata": {},
   "outputs": [],
   "source": [
    "# Define main store arguments as well as sampler size\n",
    "n_customers = 2500\n",
    "n_buckets = 4\n",
    "monte_carlo_size = 100\n",
    "store_args= {'assortment_size': 1000, 'bucket_cov': torch.eye(n_buckets)/100, 'seed' : 1066,\n",
    "             'max_stock': 1000, 'forecastVariance' :0., 'horizon': 100, 'lead_time': 1}\n",
    "bucketDist = d.uniform.Uniform(0,1)"
   ]
  },
  {
   "cell_type": "code",
   "execution_count": 3,
   "metadata": {},
   "outputs": [],
   "source": [
    "#Create the list of the average daily reward for each customer distribution for the chosen policy\n",
    "summed_rewards_policy = []\n",
    "for i in range(monte_carlo_size):\n",
    "    sub_rewards = []\n",
    "    done = False\n",
    "    #Generate the store and its customer repartition throughout the day\n",
    "    torch.manual_seed(i)\n",
    "    sampled = bucketDist.sample((n_buckets,))\n",
    "    sample_bucket_customers = (n_customers*sampled/sampled.sum()).round()\n",
    "    store = retail.StoreEnv(**store_args, bucket_customers = sample_bucket_customers)\n",
    "    while not (done):\n",
    "        #Compute the order according to the policy \n",
    "        customers = sample_bucket_customers.max()\n",
    "        p = store.forecast.squeeze()\n",
    "        std = torch.sqrt(customers*p+(1-p))\n",
    "        order = F.relu(3*std+store.forecast.squeeze()*customers-store.get_full_inventory_position()).round()\n",
    "        # Step the environment and get its observation\n",
    "        obs = store.step(order.numpy())\n",
    "        # Store reward for the specific time step\n",
    "        sub_rewards.append(obs[1])\n",
    "        done = obs[2]\n",
    "    #Append average reward of this customer repartition to the list of rewards\n",
    "    summed_rewards_policy.append(torch.stack(sub_rewards).mean())"
   ]
  },
  {
   "cell_type": "code",
   "execution_count": 4,
   "metadata": {},
   "outputs": [
    {
     "data": {
      "text/plain": [
       "<matplotlib.axes._subplots.AxesSubplot at 0x1a2455b750>"
      ]
     },
     "execution_count": 4,
     "metadata": {},
     "output_type": "execute_result"
    },
    {
     "data": {
      "image/png": "[encoded data removed]",
      "text/plain": [
       "<Figure size 432x288 with 1 Axes>"
      ]
     },
     "metadata": {
      "needs_background": "light"
     },
     "output_type": "display_data"
    }
   ],
   "source": [
    "sns.kdeplot(torch.stack(summed_rewards_policy).numpy())"
   ]
  },
  {
   "cell_type": "markdown",
   "metadata": {},
   "source": [
    "We observe a skewed distribution, where one distribution yields very high results. \n",
    "\n",
    "Let's investigate this distribution - it corresponds to seed 49."
   ]
  },
  {
   "cell_type": "code",
   "execution_count": 5,
   "metadata": {},
   "outputs": [
    {
     "data": {
      "text/plain": [
       "tensor([  78.,  462.,  414., 1546.])"
      ]
     },
     "execution_count": 5,
     "metadata": {},
     "output_type": "execute_result"
    }
   ],
   "source": [
    "torch.manual_seed(49)\n",
    "sampled = bucketDist.sample((n_buckets,))\n",
    "sample_bucket_customers = (n_customers*sampled/sampled.sum()).round()\n",
    "\n",
    "\n",
    "sample_bucket_customers"
   ]
  },
  {
   "cell_type": "markdown",
   "metadata": {},
   "source": [
    "All customers are coming at the end of the day. This is actually a realistic distribution, as patrons usually visit the store after their working hours. "
   ]
  },
  {
   "cell_type": "code",
   "execution_count": 40,
   "metadata": {},
   "outputs": [],
   "source": [
    "np.savetxt(\"imbalance_result.csv\", torch.stack(summed_rewards_policy).numpy(), delimiter=\",\")\n"
   ]
  }
 ],
 "metadata": {
  "kernelspec": {
   "display_name": "Python 3",
   "language": "python",
   "name": "python3"
  },
  "language_info": {
   "codemirror_mode": {
    "name": "ipython",
    "version": 3
   },
   "file_extension": ".py",
   "mimetype": "text/x-python",
   "name": "python",
   "nbconvert_exporter": "python",
   "pygments_lexer": "ipython3",
   "version": "3.7.6"
  }
 },
 "nbformat": 4,
 "nbformat_minor": 4
}
